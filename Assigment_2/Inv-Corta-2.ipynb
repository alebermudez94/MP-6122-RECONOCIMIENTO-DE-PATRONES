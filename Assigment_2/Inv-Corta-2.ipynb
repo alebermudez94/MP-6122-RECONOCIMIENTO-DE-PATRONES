{
 "cells": [
  {
   "cell_type": "markdown",
   "metadata": {},
   "source": [
    "# Asignacion 2\n",
    "\n",
    "## Reconocimiento de patrones\n",
    "## Alejandro Bermudez\n",
    "## Junio 17\n",
    "\n",
    "Base de datos:\n",
    "\n",
    "Los datos están relacionados con las campañas de marketing directo (llamadas telefónicas) de una institución bancaria portuguesa. El objetivo de la clasificación es predecir si el cliente suscribirá un depósito a plazo (variable y)."
   ]
  },
  {
   "cell_type": "markdown",
   "metadata": {},
   "source": [
    "Dataset description can be found: https://archive.ics.uci.edu/ml/datasets/Bank+Marketing"
   ]
  },
  {
   "cell_type": "code",
   "execution_count": 2,
   "metadata": {},
   "outputs": [],
   "source": [
    "# Importar las librerias o paquetes que necesitemos\n",
    "\n",
    "import pandas as pd\n",
    "import matplotlib.pyplot as plt\n",
    "import numpy as np\n",
    "import os\n",
    "import seaborn as sns"
   ]
  },
  {
   "cell_type": "code",
   "execution_count": 3,
   "metadata": {},
   "outputs": [],
   "source": [
    "# Lo primero que hay que hacer es cargar el dataset\n",
    "\n",
    "# Hay 2 formas de hacer esto, la primera es descargar la base de datos, encontrar una ruta y luego cargarla en el notebook:\n",
    "\n",
    "## Definiendo el directorio\n",
    "\n",
    "dataset= pd.read_csv('bank-full.csv', sep=\";\")"
   ]
  },
  {
   "cell_type": "markdown",
   "metadata": {},
   "source": [
    "# Análisis exploratorio de los datos"
   ]
  },
  {
   "cell_type": "markdown",
   "metadata": {},
   "source": [
    "Antes de iniciar los modelos de predicción se hace un análisis exploratorio de esta base de datos. Por conveniencia, se inicia con la reducción dimensional de las muestras, ya que muhcos atributos por muestra es muy difícil manejar computacional y prácticamente. "
   ]
  },
  {
   "cell_type": "code",
   "execution_count": 4,
   "metadata": {},
   "outputs": [
    {
     "data": {
      "text/plain": [
       "(45211, 17)"
      ]
     },
     "execution_count": 4,
     "metadata": {},
     "output_type": "execute_result"
    }
   ],
   "source": [
    "dataset.shape"
   ]
  },
  {
   "cell_type": "code",
   "execution_count": 5,
   "metadata": {},
   "outputs": [
    {
     "data": {
      "text/html": [
       "<div>\n",
       "<style scoped>\n",
       "    .dataframe tbody tr th:only-of-type {\n",
       "        vertical-align: middle;\n",
       "    }\n",
       "\n",
       "    .dataframe tbody tr th {\n",
       "        vertical-align: top;\n",
       "    }\n",
       "\n",
       "    .dataframe thead th {\n",
       "        text-align: right;\n",
       "    }\n",
       "</style>\n",
       "<table border=\"1\" class=\"dataframe\">\n",
       "  <thead>\n",
       "    <tr style=\"text-align: right;\">\n",
       "      <th></th>\n",
       "      <th>age</th>\n",
       "      <th>job</th>\n",
       "      <th>marital</th>\n",
       "      <th>education</th>\n",
       "      <th>default</th>\n",
       "      <th>balance</th>\n",
       "      <th>housing</th>\n",
       "      <th>loan</th>\n",
       "      <th>contact</th>\n",
       "      <th>day</th>\n",
       "      <th>month</th>\n",
       "      <th>duration</th>\n",
       "      <th>campaign</th>\n",
       "      <th>pdays</th>\n",
       "      <th>previous</th>\n",
       "      <th>poutcome</th>\n",
       "      <th>y</th>\n",
       "    </tr>\n",
       "  </thead>\n",
       "  <tbody>\n",
       "    <tr>\n",
       "      <th>0</th>\n",
       "      <td>58</td>\n",
       "      <td>management</td>\n",
       "      <td>married</td>\n",
       "      <td>tertiary</td>\n",
       "      <td>no</td>\n",
       "      <td>2143</td>\n",
       "      <td>yes</td>\n",
       "      <td>no</td>\n",
       "      <td>unknown</td>\n",
       "      <td>5</td>\n",
       "      <td>may</td>\n",
       "      <td>261</td>\n",
       "      <td>1</td>\n",
       "      <td>-1</td>\n",
       "      <td>0</td>\n",
       "      <td>unknown</td>\n",
       "      <td>no</td>\n",
       "    </tr>\n",
       "    <tr>\n",
       "      <th>1</th>\n",
       "      <td>44</td>\n",
       "      <td>technician</td>\n",
       "      <td>single</td>\n",
       "      <td>secondary</td>\n",
       "      <td>no</td>\n",
       "      <td>29</td>\n",
       "      <td>yes</td>\n",
       "      <td>no</td>\n",
       "      <td>unknown</td>\n",
       "      <td>5</td>\n",
       "      <td>may</td>\n",
       "      <td>151</td>\n",
       "      <td>1</td>\n",
       "      <td>-1</td>\n",
       "      <td>0</td>\n",
       "      <td>unknown</td>\n",
       "      <td>no</td>\n",
       "    </tr>\n",
       "    <tr>\n",
       "      <th>2</th>\n",
       "      <td>33</td>\n",
       "      <td>entrepreneur</td>\n",
       "      <td>married</td>\n",
       "      <td>secondary</td>\n",
       "      <td>no</td>\n",
       "      <td>2</td>\n",
       "      <td>yes</td>\n",
       "      <td>yes</td>\n",
       "      <td>unknown</td>\n",
       "      <td>5</td>\n",
       "      <td>may</td>\n",
       "      <td>76</td>\n",
       "      <td>1</td>\n",
       "      <td>-1</td>\n",
       "      <td>0</td>\n",
       "      <td>unknown</td>\n",
       "      <td>no</td>\n",
       "    </tr>\n",
       "    <tr>\n",
       "      <th>3</th>\n",
       "      <td>47</td>\n",
       "      <td>blue-collar</td>\n",
       "      <td>married</td>\n",
       "      <td>unknown</td>\n",
       "      <td>no</td>\n",
       "      <td>1506</td>\n",
       "      <td>yes</td>\n",
       "      <td>no</td>\n",
       "      <td>unknown</td>\n",
       "      <td>5</td>\n",
       "      <td>may</td>\n",
       "      <td>92</td>\n",
       "      <td>1</td>\n",
       "      <td>-1</td>\n",
       "      <td>0</td>\n",
       "      <td>unknown</td>\n",
       "      <td>no</td>\n",
       "    </tr>\n",
       "    <tr>\n",
       "      <th>4</th>\n",
       "      <td>33</td>\n",
       "      <td>unknown</td>\n",
       "      <td>single</td>\n",
       "      <td>unknown</td>\n",
       "      <td>no</td>\n",
       "      <td>1</td>\n",
       "      <td>no</td>\n",
       "      <td>no</td>\n",
       "      <td>unknown</td>\n",
       "      <td>5</td>\n",
       "      <td>may</td>\n",
       "      <td>198</td>\n",
       "      <td>1</td>\n",
       "      <td>-1</td>\n",
       "      <td>0</td>\n",
       "      <td>unknown</td>\n",
       "      <td>no</td>\n",
       "    </tr>\n",
       "  </tbody>\n",
       "</table>\n",
       "</div>"
      ],
      "text/plain": [
       "   age           job  marital  education default  balance housing loan  \\\n",
       "0   58    management  married   tertiary      no     2143     yes   no   \n",
       "1   44    technician   single  secondary      no       29     yes   no   \n",
       "2   33  entrepreneur  married  secondary      no        2     yes  yes   \n",
       "3   47   blue-collar  married    unknown      no     1506     yes   no   \n",
       "4   33       unknown   single    unknown      no        1      no   no   \n",
       "\n",
       "   contact  day month  duration  campaign  pdays  previous poutcome   y  \n",
       "0  unknown    5   may       261         1     -1         0  unknown  no  \n",
       "1  unknown    5   may       151         1     -1         0  unknown  no  \n",
       "2  unknown    5   may        76         1     -1         0  unknown  no  \n",
       "3  unknown    5   may        92         1     -1         0  unknown  no  \n",
       "4  unknown    5   may       198         1     -1         0  unknown  no  "
      ]
     },
     "execution_count": 5,
     "metadata": {},
     "output_type": "execute_result"
    }
   ],
   "source": [
    "# Veamos la cabecera del conjunto de datos.\n",
    "dataset.head()"
   ]
  },
  {
   "cell_type": "code",
   "execution_count": 6,
   "metadata": {},
   "outputs": [
    {
     "data": {
      "text/plain": [
       "array(['no', 'yes'], dtype=object)"
      ]
     },
     "execution_count": 6,
     "metadata": {},
     "output_type": "execute_result"
    }
   ],
   "source": [
    "# En este caso, la variable de destino es básicamente una clasificación codificada, veamos qué otros valores tienen \"y\"\n",
    "\n",
    "dataset['y'].unique()\n"
   ]
  },
  {
   "cell_type": "code",
   "execution_count": 7,
   "metadata": {},
   "outputs": [
    {
     "data": {
      "text/plain": [
       "no     39922\n",
       "yes     5289\n",
       "Name: y, dtype: int64"
      ]
     },
     "execution_count": 7,
     "metadata": {},
     "output_type": "execute_result"
    }
   ],
   "source": [
    "# A este punto ya se entiende que se trata de un caso de clasificacion, donde la variable a predecir es \"y\" la cual significa :\n",
    "# has the client subscribed a term deposit? \n",
    "# Un punto muy importante es saber si las clases de la variable a clasificar se encuentran balanceadas, que se quiere decir con\n",
    "# eso ,bueno que exista una proporcion parecida de las clases 60% y , 40% n por ejemplo\n",
    "\n",
    "dataset['y'].value_counts()\n"
   ]
  },
  {
   "cell_type": "markdown",
   "metadata": {},
   "source": [
    "### Al parecer las clases no se encuentran balanceadas, por ende se tendra que utilizar una metrica para el modelo diferente al accuracy"
   ]
  },
  {
   "cell_type": "code",
   "execution_count": 8,
   "metadata": {},
   "outputs": [
    {
     "data": {
      "text/html": [
       "<div>\n",
       "<style scoped>\n",
       "    .dataframe tbody tr th:only-of-type {\n",
       "        vertical-align: middle;\n",
       "    }\n",
       "\n",
       "    .dataframe tbody tr th {\n",
       "        vertical-align: top;\n",
       "    }\n",
       "\n",
       "    .dataframe thead th {\n",
       "        text-align: right;\n",
       "    }\n",
       "</style>\n",
       "<table border=\"1\" class=\"dataframe\">\n",
       "  <thead>\n",
       "    <tr style=\"text-align: right;\">\n",
       "      <th></th>\n",
       "      <th>age</th>\n",
       "      <th>balance</th>\n",
       "      <th>day</th>\n",
       "      <th>duration</th>\n",
       "      <th>campaign</th>\n",
       "      <th>pdays</th>\n",
       "      <th>previous</th>\n",
       "    </tr>\n",
       "  </thead>\n",
       "  <tbody>\n",
       "    <tr>\n",
       "      <th>count</th>\n",
       "      <td>45211.000000</td>\n",
       "      <td>45211.000000</td>\n",
       "      <td>45211.000000</td>\n",
       "      <td>45211.000000</td>\n",
       "      <td>45211.000000</td>\n",
       "      <td>45211.000000</td>\n",
       "      <td>45211.000000</td>\n",
       "    </tr>\n",
       "    <tr>\n",
       "      <th>mean</th>\n",
       "      <td>40.936210</td>\n",
       "      <td>1362.272058</td>\n",
       "      <td>15.806419</td>\n",
       "      <td>258.163080</td>\n",
       "      <td>2.763841</td>\n",
       "      <td>40.197828</td>\n",
       "      <td>0.580323</td>\n",
       "    </tr>\n",
       "    <tr>\n",
       "      <th>std</th>\n",
       "      <td>10.618762</td>\n",
       "      <td>3044.765829</td>\n",
       "      <td>8.322476</td>\n",
       "      <td>257.527812</td>\n",
       "      <td>3.098021</td>\n",
       "      <td>100.128746</td>\n",
       "      <td>2.303441</td>\n",
       "    </tr>\n",
       "    <tr>\n",
       "      <th>min</th>\n",
       "      <td>18.000000</td>\n",
       "      <td>-8019.000000</td>\n",
       "      <td>1.000000</td>\n",
       "      <td>0.000000</td>\n",
       "      <td>1.000000</td>\n",
       "      <td>-1.000000</td>\n",
       "      <td>0.000000</td>\n",
       "    </tr>\n",
       "    <tr>\n",
       "      <th>25%</th>\n",
       "      <td>33.000000</td>\n",
       "      <td>72.000000</td>\n",
       "      <td>8.000000</td>\n",
       "      <td>103.000000</td>\n",
       "      <td>1.000000</td>\n",
       "      <td>-1.000000</td>\n",
       "      <td>0.000000</td>\n",
       "    </tr>\n",
       "    <tr>\n",
       "      <th>50%</th>\n",
       "      <td>39.000000</td>\n",
       "      <td>448.000000</td>\n",
       "      <td>16.000000</td>\n",
       "      <td>180.000000</td>\n",
       "      <td>2.000000</td>\n",
       "      <td>-1.000000</td>\n",
       "      <td>0.000000</td>\n",
       "    </tr>\n",
       "    <tr>\n",
       "      <th>75%</th>\n",
       "      <td>48.000000</td>\n",
       "      <td>1428.000000</td>\n",
       "      <td>21.000000</td>\n",
       "      <td>319.000000</td>\n",
       "      <td>3.000000</td>\n",
       "      <td>-1.000000</td>\n",
       "      <td>0.000000</td>\n",
       "    </tr>\n",
       "    <tr>\n",
       "      <th>max</th>\n",
       "      <td>95.000000</td>\n",
       "      <td>102127.000000</td>\n",
       "      <td>31.000000</td>\n",
       "      <td>4918.000000</td>\n",
       "      <td>63.000000</td>\n",
       "      <td>871.000000</td>\n",
       "      <td>275.000000</td>\n",
       "    </tr>\n",
       "  </tbody>\n",
       "</table>\n",
       "</div>"
      ],
      "text/plain": [
       "                age        balance           day      duration      campaign  \\\n",
       "count  45211.000000   45211.000000  45211.000000  45211.000000  45211.000000   \n",
       "mean      40.936210    1362.272058     15.806419    258.163080      2.763841   \n",
       "std       10.618762    3044.765829      8.322476    257.527812      3.098021   \n",
       "min       18.000000   -8019.000000      1.000000      0.000000      1.000000   \n",
       "25%       33.000000      72.000000      8.000000    103.000000      1.000000   \n",
       "50%       39.000000     448.000000     16.000000    180.000000      2.000000   \n",
       "75%       48.000000    1428.000000     21.000000    319.000000      3.000000   \n",
       "max       95.000000  102127.000000     31.000000   4918.000000     63.000000   \n",
       "\n",
       "              pdays      previous  \n",
       "count  45211.000000  45211.000000  \n",
       "mean      40.197828      0.580323  \n",
       "std      100.128746      2.303441  \n",
       "min       -1.000000      0.000000  \n",
       "25%       -1.000000      0.000000  \n",
       "50%       -1.000000      0.000000  \n",
       "75%       -1.000000      0.000000  \n",
       "max      871.000000    275.000000  "
      ]
     },
     "execution_count": 8,
     "metadata": {},
     "output_type": "execute_result"
    }
   ],
   "source": [
    "# Pero primero, veamos un resumen del conjunto de datos, la función de descripción nos permitirá hacer eso\n",
    "# La funcion \"describe\" nos permitirá tener algunas estadísticas del conjunto de datos, en este caso, la variable de \"y\" no necesita\n",
    "# este tipo de estadísticas ya que es una variable categórica codificada\n",
    "\n",
    "dataset.describe()"
   ]
  },
  {
   "cell_type": "code",
   "execution_count": 9,
   "metadata": {},
   "outputs": [
    {
     "data": {
      "text/plain": [
       "age          0\n",
       "job          0\n",
       "marital      0\n",
       "education    0\n",
       "default      0\n",
       "balance      0\n",
       "housing      0\n",
       "loan         0\n",
       "contact      0\n",
       "day          0\n",
       "month        0\n",
       "duration     0\n",
       "campaign     0\n",
       "pdays        0\n",
       "previous     0\n",
       "poutcome     0\n",
       "y            0\n",
       "dtype: int64"
      ]
     },
     "execution_count": 9,
     "metadata": {},
     "output_type": "execute_result"
    }
   ],
   "source": [
    "# Ahora, veamos si faltan algunos valores en las columnas\n",
    "\n",
    "dataset.isnull().sum()\n",
    "\n"
   ]
  },
  {
   "cell_type": "markdown",
   "metadata": {},
   "source": [
    "Parece que no faltan valores, en caso de que necesite limpiarlos, por favor repasar el tutorial anterior o mire este código: Primero puedes eliminar filas de valores na con:"
   ]
  },
  {
   "cell_type": "code",
   "execution_count": 10,
   "metadata": {},
   "outputs": [],
   "source": [
    "dataset=dataset.dropna ()\n"
   ]
  },
  {
   "cell_type": "markdown",
   "metadata": {},
   "source": [
    "# Hay alguna correlacion entre la edad y la variable de salida?\n"
   ]
  },
  {
   "cell_type": "code",
   "execution_count": 11,
   "metadata": {},
   "outputs": [
    {
     "data": {
      "text/plain": [
       "Text(0.5, 0, 'Mean age ')"
      ]
     },
     "execution_count": 11,
     "metadata": {},
     "output_type": "execute_result"
    },
    {
     "data": {
      "image/png": "[encoded data removed]",
      "text/plain": [
       "<Figure size 432x288 with 1 Axes>"
      ]
     },
     "metadata": {
      "needs_background": "light"
     },
     "output_type": "display_data"
    }
   ],
   "source": [
    "# Para realizar esto lo primero que se realizara es un grafico con la edad promedio para yes y para no\n",
    "\n",
    "mean_age_predictor = dataset.groupby('y')['age'].mean().sort_values()\n",
    "\n",
    "\n",
    "\n",
    "mean_age_plot=mean_age_predictor.plot(kind='barh')\n",
    "\n",
    "mean_age_plot.set_xlabel(\"Mean age \", labelpad=20, weight='bold', size=12)"
   ]
  },
  {
   "cell_type": "markdown",
   "metadata": {},
   "source": [
    "### Parece ser que la edad no es un factor predictor para saber si el cliente se ha suscrito a un deposito a plazo, granulemos un poco mas y veamos un histograma"
   ]
  },
  {
   "cell_type": "code",
   "execution_count": 12,
   "metadata": {},
   "outputs": [
    {
     "data": {
      "text/plain": [
       "<matplotlib.axes._subplots.AxesSubplot at 0xc5c3198>"
      ]
     },
     "execution_count": 12,
     "metadata": {},
     "output_type": "execute_result"
    },
    {
     "data": {
      "image/png": "[encoded data removed]",
      "text/plain": [
       "<Figure size 432x288 with 1 Axes>"
      ]
     },
     "metadata": {
      "needs_background": "light"
     },
     "output_type": "display_data"
    }
   ],
   "source": [
    "sns.distplot( dataset[dataset['y']=='no'].age , color=\"skyblue\", label=\"No\")\n",
    "sns.distplot( dataset[dataset['y']=='yes'].age , color=\"red\", label=\"Yes\")\n",
    "\n"
   ]
  },
  {
   "cell_type": "markdown",
   "metadata": {},
   "source": [
    "### Las distribuciones parecen ser bastante iguales, aunque al final de la cola derecha cambia un poco, entonces podria ser un buen feature\n"
   ]
  },
  {
   "cell_type": "markdown",
   "metadata": {},
   "source": [
    "## Veamos si el estado civil parece ser un buen feature"
   ]
  },
  {
   "cell_type": "code",
   "execution_count": 13,
   "metadata": {
    "scrolled": true
   },
   "outputs": [
    {
     "data": {
      "image/png": "[encoded data removed]",
      "text/plain": [
       "<Figure size 432x288 with 1 Axes>"
      ]
     },
     "metadata": {
      "needs_background": "light"
     },
     "output_type": "display_data"
    }
   ],
   "source": [
    "ax = sns.countplot(x=\"marital\", hue=\"y\", data=dataset)"
   ]
  },
  {
   "cell_type": "markdown",
   "metadata": {},
   "source": [
    "### Tampoco existe una relacion visible entre en estado civil y si se ha suscrito a un deposito a plazo"
   ]
  },
  {
   "cell_type": "markdown",
   "metadata": {},
   "source": [
    "## Seleccion de columnas"
   ]
  },
  {
   "cell_type": "markdown",
   "metadata": {},
   "source": [
    "### Para esta seccion se va a utilizar la instancia de feature selector, pero antes de eso tenemos que realizar un poco de Pre-procesamiento\n",
    "\n",
    "One Hot enconder es codificar entidades enteras \"categóricas\" como un array numérico de un solo uso"
   ]
  },
  {
   "cell_type": "code",
   "execution_count": 15,
   "metadata": {},
   "outputs": [
    {
     "name": "stderr",
     "output_type": "stream",
     "text": [
      "C:\\Users\\bermudal\\AppData\\Local\\Continuum\\anaconda3\\lib\\site-packages\\sklearn\\preprocessing\\_encoders.py:371: FutureWarning: The handling of integer data will change in version 0.22. Currently, the categories are determined based on the range [0, max(values)], while in the future they will be determined based on the unique values.\n",
      "If you want the future behaviour and silence this warning, you can specify \"categories='auto'\".\n",
      "In case you used a LabelEncoder before this OneHotEncoder to convert the categories to integers, then you can now use the OneHotEncoder directly.\n",
      "  warnings.warn(msg, FutureWarning)\n",
      "C:\\Users\\bermudal\\AppData\\Local\\Continuum\\anaconda3\\lib\\site-packages\\sklearn\\preprocessing\\_encoders.py:392: DeprecationWarning: The 'categorical_features' keyword is deprecated in version 0.20 and will be removed in 0.22. You can use the ColumnTransformer instead.\n",
      "  \"use the ColumnTransformer instead.\", DeprecationWarning)\n"
     ]
    }
   ],
   "source": [
    "from sklearn.preprocessing import OneHotEncoder\n",
    "from sklearn import preprocessing\n",
    "\n",
    "le=preprocessing.LabelEncoder()\n",
    "\n",
    "#Definiendo quien es \"X\" y quien es \"Y\"\n",
    "\n",
    "X=dataset.iloc[:,:-1]\n",
    "\n",
    "y=dataset.iloc[:,16]\n",
    "\n",
    "# Label encoder en variable X:\n",
    "\n",
    "X.iloc[:,1]=le.fit_transform(X.iloc[:,1])\n",
    "X.iloc[:,2]=le.fit_transform(X.iloc[:,2])\n",
    "X.iloc[:,3]=le.fit_transform(X.iloc[:,3])\n",
    "X.iloc[:,4]=le.fit_transform(X.iloc[:,4])\n",
    "X.iloc[:,6]=le.fit_transform(X.iloc[:,6])\n",
    "X.iloc[:,7]=le.fit_transform(X.iloc[:,7])\n",
    "X.iloc[:,8]=le.fit_transform(X.iloc[:,8])\n",
    "X.iloc[:,10]=le.fit_transform(X.iloc[:,10])\n",
    "X.iloc[:,15]=le.fit_transform(X.iloc[:,15])\n",
    "\n",
    "\n",
    "\n",
    "# aqui se escifica las columnas que se deben hacer one hot label encoding y deben de ser columnas categoricas\n",
    "onehotencoder=OneHotEncoder(categorical_features=[1,2,3,4,6,7,8,10,15])\n",
    "X= onehotencoder.fit_transform(X).toarray()\n",
    "\n",
    "X=pd.DataFrame(X)\n",
    "\n",
    "\n",
    "\n",
    "X.columns = [\"is_admin\", \"is_blue_collar\", \"is_entrepe\",\n",
    "               \"is_housemaid\",\"is_management\",\"is_retired\",\n",
    "               \"is_self\",\"is_services\",\"is_student\",\"is_tech\",\n",
    "               \"is_unemp\",\"is_unknown\",\"is_divorced\",\n",
    "               \"is_married\",\"is_single\",\"is_primary\",\n",
    "               \"is_secondary\",\"is_tertiary\",\"is_unknown_edu\",\n",
    "               \"is_y_def\",\"is_n_def\",\"is_y_hou\",\"is_n_hou\",\n",
    "               \"is_y_loan\",\"is_n_loan\",\"is_cellular\",\n",
    "               \"is_telephone\",\"is_unknown_contact\",\n",
    "               \"is_apr\",\"is_aug\",\"is_dec\",\"is_feb\",\n",
    "               \"is_jan\",\"is_july\",\"is_june\",\n",
    "               \"is_march\",\"is_may\",\"is_nov\",\n",
    "               \"is_oct\",\"is_sep\",\"is_failure_out\",\n",
    "               \"is_other_out\",\"is_sucess_out\",\"is_unknown_out\",\n",
    "               \"age\",\"balance\",\"day\",\"duration\",\"campaign\",\"pdays\",\"previous\"]\n",
    "\n",
    "\n"
   ]
  },
  {
   "cell_type": "markdown",
   "metadata": {},
   "source": [
    "### Asi se ven las variables listas despues de codificarlas"
   ]
  },
  {
   "cell_type": "code",
   "execution_count": 16,
   "metadata": {},
   "outputs": [
    {
     "data": {
      "text/html": [
       "<div>\n",
       "<style scoped>\n",
       "    .dataframe tbody tr th:only-of-type {\n",
       "        vertical-align: middle;\n",
       "    }\n",
       "\n",
       "    .dataframe tbody tr th {\n",
       "        vertical-align: top;\n",
       "    }\n",
       "\n",
       "    .dataframe thead th {\n",
       "        text-align: right;\n",
       "    }\n",
       "</style>\n",
       "<table border=\"1\" class=\"dataframe\">\n",
       "  <thead>\n",
       "    <tr style=\"text-align: right;\">\n",
       "      <th></th>\n",
       "      <th>is_admin</th>\n",
       "      <th>is_blue_collar</th>\n",
       "      <th>is_entrepe</th>\n",
       "      <th>is_housemaid</th>\n",
       "      <th>is_management</th>\n",
       "      <th>is_retired</th>\n",
       "      <th>is_self</th>\n",
       "      <th>is_services</th>\n",
       "      <th>is_student</th>\n",
       "      <th>is_tech</th>\n",
       "      <th>...</th>\n",
       "      <th>is_other_out</th>\n",
       "      <th>is_sucess_out</th>\n",
       "      <th>is_unknown_out</th>\n",
       "      <th>age</th>\n",
       "      <th>balance</th>\n",
       "      <th>day</th>\n",
       "      <th>duration</th>\n",
       "      <th>campaign</th>\n",
       "      <th>pdays</th>\n",
       "      <th>previous</th>\n",
       "    </tr>\n",
       "  </thead>\n",
       "  <tbody>\n",
       "    <tr>\n",
       "      <th>0</th>\n",
       "      <td>0.0</td>\n",
       "      <td>0.0</td>\n",
       "      <td>0.0</td>\n",
       "      <td>0.0</td>\n",
       "      <td>1.0</td>\n",
       "      <td>0.0</td>\n",
       "      <td>0.0</td>\n",
       "      <td>0.0</td>\n",
       "      <td>0.0</td>\n",
       "      <td>0.0</td>\n",
       "      <td>...</td>\n",
       "      <td>0.0</td>\n",
       "      <td>0.0</td>\n",
       "      <td>1.0</td>\n",
       "      <td>58.0</td>\n",
       "      <td>2143.0</td>\n",
       "      <td>5.0</td>\n",
       "      <td>261.0</td>\n",
       "      <td>1.0</td>\n",
       "      <td>-1.0</td>\n",
       "      <td>0.0</td>\n",
       "    </tr>\n",
       "    <tr>\n",
       "      <th>1</th>\n",
       "      <td>0.0</td>\n",
       "      <td>0.0</td>\n",
       "      <td>0.0</td>\n",
       "      <td>0.0</td>\n",
       "      <td>0.0</td>\n",
       "      <td>0.0</td>\n",
       "      <td>0.0</td>\n",
       "      <td>0.0</td>\n",
       "      <td>0.0</td>\n",
       "      <td>1.0</td>\n",
       "      <td>...</td>\n",
       "      <td>0.0</td>\n",
       "      <td>0.0</td>\n",
       "      <td>1.0</td>\n",
       "      <td>44.0</td>\n",
       "      <td>29.0</td>\n",
       "      <td>5.0</td>\n",
       "      <td>151.0</td>\n",
       "      <td>1.0</td>\n",
       "      <td>-1.0</td>\n",
       "      <td>0.0</td>\n",
       "    </tr>\n",
       "    <tr>\n",
       "      <th>2</th>\n",
       "      <td>0.0</td>\n",
       "      <td>0.0</td>\n",
       "      <td>1.0</td>\n",
       "      <td>0.0</td>\n",
       "      <td>0.0</td>\n",
       "      <td>0.0</td>\n",
       "      <td>0.0</td>\n",
       "      <td>0.0</td>\n",
       "      <td>0.0</td>\n",
       "      <td>0.0</td>\n",
       "      <td>...</td>\n",
       "      <td>0.0</td>\n",
       "      <td>0.0</td>\n",
       "      <td>1.0</td>\n",
       "      <td>33.0</td>\n",
       "      <td>2.0</td>\n",
       "      <td>5.0</td>\n",
       "      <td>76.0</td>\n",
       "      <td>1.0</td>\n",
       "      <td>-1.0</td>\n",
       "      <td>0.0</td>\n",
       "    </tr>\n",
       "    <tr>\n",
       "      <th>3</th>\n",
       "      <td>0.0</td>\n",
       "      <td>1.0</td>\n",
       "      <td>0.0</td>\n",
       "      <td>0.0</td>\n",
       "      <td>0.0</td>\n",
       "      <td>0.0</td>\n",
       "      <td>0.0</td>\n",
       "      <td>0.0</td>\n",
       "      <td>0.0</td>\n",
       "      <td>0.0</td>\n",
       "      <td>...</td>\n",
       "      <td>0.0</td>\n",
       "      <td>0.0</td>\n",
       "      <td>1.0</td>\n",
       "      <td>47.0</td>\n",
       "      <td>1506.0</td>\n",
       "      <td>5.0</td>\n",
       "      <td>92.0</td>\n",
       "      <td>1.0</td>\n",
       "      <td>-1.0</td>\n",
       "      <td>0.0</td>\n",
       "    </tr>\n",
       "    <tr>\n",
       "      <th>4</th>\n",
       "      <td>0.0</td>\n",
       "      <td>0.0</td>\n",
       "      <td>0.0</td>\n",
       "      <td>0.0</td>\n",
       "      <td>0.0</td>\n",
       "      <td>0.0</td>\n",
       "      <td>0.0</td>\n",
       "      <td>0.0</td>\n",
       "      <td>0.0</td>\n",
       "      <td>0.0</td>\n",
       "      <td>...</td>\n",
       "      <td>0.0</td>\n",
       "      <td>0.0</td>\n",
       "      <td>1.0</td>\n",
       "      <td>33.0</td>\n",
       "      <td>1.0</td>\n",
       "      <td>5.0</td>\n",
       "      <td>198.0</td>\n",
       "      <td>1.0</td>\n",
       "      <td>-1.0</td>\n",
       "      <td>0.0</td>\n",
       "    </tr>\n",
       "  </tbody>\n",
       "</table>\n",
       "<p>5 rows × 51 columns</p>\n",
       "</div>"
      ],
      "text/plain": [
       "   is_admin  is_blue_collar  is_entrepe  is_housemaid  is_management  \\\n",
       "0       0.0             0.0         0.0           0.0            1.0   \n",
       "1       0.0             0.0         0.0           0.0            0.0   \n",
       "2       0.0             0.0         1.0           0.0            0.0   \n",
       "3       0.0             1.0         0.0           0.0            0.0   \n",
       "4       0.0             0.0         0.0           0.0            0.0   \n",
       "\n",
       "   is_retired  is_self  is_services  is_student  is_tech  ...  is_other_out  \\\n",
       "0         0.0      0.0          0.0         0.0      0.0  ...           0.0   \n",
       "1         0.0      0.0          0.0         0.0      1.0  ...           0.0   \n",
       "2         0.0      0.0          0.0         0.0      0.0  ...           0.0   \n",
       "3         0.0      0.0          0.0         0.0      0.0  ...           0.0   \n",
       "4         0.0      0.0          0.0         0.0      0.0  ...           0.0   \n",
       "\n",
       "   is_sucess_out  is_unknown_out   age  balance  day  duration  campaign  \\\n",
       "0            0.0             1.0  58.0   2143.0  5.0     261.0       1.0   \n",
       "1            0.0             1.0  44.0     29.0  5.0     151.0       1.0   \n",
       "2            0.0             1.0  33.0      2.0  5.0      76.0       1.0   \n",
       "3            0.0             1.0  47.0   1506.0  5.0      92.0       1.0   \n",
       "4            0.0             1.0  33.0      1.0  5.0     198.0       1.0   \n",
       "\n",
       "   pdays  previous  \n",
       "0   -1.0       0.0  \n",
       "1   -1.0       0.0  \n",
       "2   -1.0       0.0  \n",
       "3   -1.0       0.0  \n",
       "4   -1.0       0.0  \n",
       "\n",
       "[5 rows x 51 columns]"
      ]
     },
     "execution_count": 16,
     "metadata": {},
     "output_type": "execute_result"
    }
   ],
   "source": [
    "\n",
    "X.head()\n"
   ]
  },
  {
   "cell_type": "markdown",
   "metadata": {},
   "source": [
    "### Ahora hay que quitar la ultima columna de cada variable que se codifico\n",
    "\n",
    "- is_unknown\n",
    "- is_single\n",
    "- is_unknown_edu\n",
    "- is_n_def\n",
    "- is_n_hou\n",
    "- is_n_loan\n",
    "- is_unknown_contact\n",
    "- is_sep\n",
    "- is_unknown_out"
   ]
  },
  {
   "cell_type": "code",
   "execution_count": 17,
   "metadata": {},
   "outputs": [],
   "source": [
    "columns = ['is_unknown', 'is_single',\n",
    "           'is_unknown_edu','is_n_def',\n",
    "           'is_n_hou','is_n_loan',\n",
    "           'is_unknown_contact','is_sep',\n",
    "           'is_unknown_out']\n",
    "X.drop(columns, inplace=True, axis=1)"
   ]
  },
  {
   "cell_type": "code",
   "execution_count": 18,
   "metadata": {},
   "outputs": [
    {
     "data": {
      "text/html": [
       "<div>\n",
       "<style scoped>\n",
       "    .dataframe tbody tr th:only-of-type {\n",
       "        vertical-align: middle;\n",
       "    }\n",
       "\n",
       "    .dataframe tbody tr th {\n",
       "        vertical-align: top;\n",
       "    }\n",
       "\n",
       "    .dataframe thead th {\n",
       "        text-align: right;\n",
       "    }\n",
       "</style>\n",
       "<table border=\"1\" class=\"dataframe\">\n",
       "  <thead>\n",
       "    <tr style=\"text-align: right;\">\n",
       "      <th></th>\n",
       "      <th>is_admin</th>\n",
       "      <th>is_blue_collar</th>\n",
       "      <th>is_entrepe</th>\n",
       "      <th>is_housemaid</th>\n",
       "      <th>is_management</th>\n",
       "      <th>is_retired</th>\n",
       "      <th>is_self</th>\n",
       "      <th>is_services</th>\n",
       "      <th>is_student</th>\n",
       "      <th>is_tech</th>\n",
       "      <th>...</th>\n",
       "      <th>is_failure_out</th>\n",
       "      <th>is_other_out</th>\n",
       "      <th>is_sucess_out</th>\n",
       "      <th>age</th>\n",
       "      <th>balance</th>\n",
       "      <th>day</th>\n",
       "      <th>duration</th>\n",
       "      <th>campaign</th>\n",
       "      <th>pdays</th>\n",
       "      <th>previous</th>\n",
       "    </tr>\n",
       "  </thead>\n",
       "  <tbody>\n",
       "    <tr>\n",
       "      <th>0</th>\n",
       "      <td>0.0</td>\n",
       "      <td>0.0</td>\n",
       "      <td>0.0</td>\n",
       "      <td>0.0</td>\n",
       "      <td>1.0</td>\n",
       "      <td>0.0</td>\n",
       "      <td>0.0</td>\n",
       "      <td>0.0</td>\n",
       "      <td>0.0</td>\n",
       "      <td>0.0</td>\n",
       "      <td>...</td>\n",
       "      <td>0.0</td>\n",
       "      <td>0.0</td>\n",
       "      <td>0.0</td>\n",
       "      <td>58.0</td>\n",
       "      <td>2143.0</td>\n",
       "      <td>5.0</td>\n",
       "      <td>261.0</td>\n",
       "      <td>1.0</td>\n",
       "      <td>-1.0</td>\n",
       "      <td>0.0</td>\n",
       "    </tr>\n",
       "    <tr>\n",
       "      <th>1</th>\n",
       "      <td>0.0</td>\n",
       "      <td>0.0</td>\n",
       "      <td>0.0</td>\n",
       "      <td>0.0</td>\n",
       "      <td>0.0</td>\n",
       "      <td>0.0</td>\n",
       "      <td>0.0</td>\n",
       "      <td>0.0</td>\n",
       "      <td>0.0</td>\n",
       "      <td>1.0</td>\n",
       "      <td>...</td>\n",
       "      <td>0.0</td>\n",
       "      <td>0.0</td>\n",
       "      <td>0.0</td>\n",
       "      <td>44.0</td>\n",
       "      <td>29.0</td>\n",
       "      <td>5.0</td>\n",
       "      <td>151.0</td>\n",
       "      <td>1.0</td>\n",
       "      <td>-1.0</td>\n",
       "      <td>0.0</td>\n",
       "    </tr>\n",
       "    <tr>\n",
       "      <th>2</th>\n",
       "      <td>0.0</td>\n",
       "      <td>0.0</td>\n",
       "      <td>1.0</td>\n",
       "      <td>0.0</td>\n",
       "      <td>0.0</td>\n",
       "      <td>0.0</td>\n",
       "      <td>0.0</td>\n",
       "      <td>0.0</td>\n",
       "      <td>0.0</td>\n",
       "      <td>0.0</td>\n",
       "      <td>...</td>\n",
       "      <td>0.0</td>\n",
       "      <td>0.0</td>\n",
       "      <td>0.0</td>\n",
       "      <td>33.0</td>\n",
       "      <td>2.0</td>\n",
       "      <td>5.0</td>\n",
       "      <td>76.0</td>\n",
       "      <td>1.0</td>\n",
       "      <td>-1.0</td>\n",
       "      <td>0.0</td>\n",
       "    </tr>\n",
       "    <tr>\n",
       "      <th>3</th>\n",
       "      <td>0.0</td>\n",
       "      <td>1.0</td>\n",
       "      <td>0.0</td>\n",
       "      <td>0.0</td>\n",
       "      <td>0.0</td>\n",
       "      <td>0.0</td>\n",
       "      <td>0.0</td>\n",
       "      <td>0.0</td>\n",
       "      <td>0.0</td>\n",
       "      <td>0.0</td>\n",
       "      <td>...</td>\n",
       "      <td>0.0</td>\n",
       "      <td>0.0</td>\n",
       "      <td>0.0</td>\n",
       "      <td>47.0</td>\n",
       "      <td>1506.0</td>\n",
       "      <td>5.0</td>\n",
       "      <td>92.0</td>\n",
       "      <td>1.0</td>\n",
       "      <td>-1.0</td>\n",
       "      <td>0.0</td>\n",
       "    </tr>\n",
       "    <tr>\n",
       "      <th>4</th>\n",
       "      <td>0.0</td>\n",
       "      <td>0.0</td>\n",
       "      <td>0.0</td>\n",
       "      <td>0.0</td>\n",
       "      <td>0.0</td>\n",
       "      <td>0.0</td>\n",
       "      <td>0.0</td>\n",
       "      <td>0.0</td>\n",
       "      <td>0.0</td>\n",
       "      <td>0.0</td>\n",
       "      <td>...</td>\n",
       "      <td>0.0</td>\n",
       "      <td>0.0</td>\n",
       "      <td>0.0</td>\n",
       "      <td>33.0</td>\n",
       "      <td>1.0</td>\n",
       "      <td>5.0</td>\n",
       "      <td>198.0</td>\n",
       "      <td>1.0</td>\n",
       "      <td>-1.0</td>\n",
       "      <td>0.0</td>\n",
       "    </tr>\n",
       "  </tbody>\n",
       "</table>\n",
       "<p>5 rows × 42 columns</p>\n",
       "</div>"
      ],
      "text/plain": [
       "   is_admin  is_blue_collar  is_entrepe  is_housemaid  is_management  \\\n",
       "0       0.0             0.0         0.0           0.0            1.0   \n",
       "1       0.0             0.0         0.0           0.0            0.0   \n",
       "2       0.0             0.0         1.0           0.0            0.0   \n",
       "3       0.0             1.0         0.0           0.0            0.0   \n",
       "4       0.0             0.0         0.0           0.0            0.0   \n",
       "\n",
       "   is_retired  is_self  is_services  is_student  is_tech  ...  is_failure_out  \\\n",
       "0         0.0      0.0          0.0         0.0      0.0  ...             0.0   \n",
       "1         0.0      0.0          0.0         0.0      1.0  ...             0.0   \n",
       "2         0.0      0.0          0.0         0.0      0.0  ...             0.0   \n",
       "3         0.0      0.0          0.0         0.0      0.0  ...             0.0   \n",
       "4         0.0      0.0          0.0         0.0      0.0  ...             0.0   \n",
       "\n",
       "   is_other_out  is_sucess_out   age  balance  day  duration  campaign  pdays  \\\n",
       "0           0.0            0.0  58.0   2143.0  5.0     261.0       1.0   -1.0   \n",
       "1           0.0            0.0  44.0     29.0  5.0     151.0       1.0   -1.0   \n",
       "2           0.0            0.0  33.0      2.0  5.0      76.0       1.0   -1.0   \n",
       "3           0.0            0.0  47.0   1506.0  5.0      92.0       1.0   -1.0   \n",
       "4           0.0            0.0  33.0      1.0  5.0     198.0       1.0   -1.0   \n",
       "\n",
       "   previous  \n",
       "0       0.0  \n",
       "1       0.0  \n",
       "2       0.0  \n",
       "3       0.0  \n",
       "4       0.0  \n",
       "\n",
       "[5 rows x 42 columns]"
      ]
     },
     "execution_count": 18,
     "metadata": {},
     "output_type": "execute_result"
    }
   ],
   "source": [
    "X.head()"
   ]
  },
  {
   "cell_type": "markdown",
   "metadata": {},
   "source": [
    "### Muchos algoritmos son sensibles si los datos no se encuentran normalizados por ende vamos a normalizar todo para entrenar a los modelos con standar_scaler"
   ]
  },
  {
   "cell_type": "code",
   "execution_count": 19,
   "metadata": {},
   "outputs": [],
   "source": [
    "from sklearn.preprocessing import StandardScaler\n",
    "scaler = StandardScaler()\n",
    "X_scaled=scaler.fit_transform(X)"
   ]
  },
  {
   "cell_type": "code",
   "execution_count": 20,
   "metadata": {},
   "outputs": [
    {
     "data": {
      "text/plain": [
       "array([[-0.35936869, -0.52373954, -0.1844147 , ..., -0.56935064,\n",
       "        -0.41145311, -0.25194037],\n",
       "       [-0.35936869, -0.52373954, -0.1844147 , ..., -0.56935064,\n",
       "        -0.41145311, -0.25194037],\n",
       "       [-0.35936869, -0.52373954,  5.42256115, ..., -0.56935064,\n",
       "        -0.41145311, -0.25194037],\n",
       "       ...,\n",
       "       [-0.35936869, -0.52373954, -0.1844147 , ...,  0.72181052,\n",
       "         1.43618859,  1.05047333],\n",
       "       [-0.35936869,  1.909346  , -0.1844147 , ...,  0.39902023,\n",
       "        -0.41145311, -0.25194037],\n",
       "       [-0.35936869, -0.52373954,  5.42256115, ..., -0.24656035,\n",
       "         1.4761376 ,  4.52357654]])"
      ]
     },
     "execution_count": 20,
     "metadata": {},
     "output_type": "execute_result"
    }
   ],
   "source": [
    "X_scaled"
   ]
  },
  {
   "cell_type": "markdown",
   "metadata": {},
   "source": [
    " Ahora vamos a cambiar la variable \"Y\""
   ]
  },
  {
   "cell_type": "code",
   "execution_count": 21,
   "metadata": {},
   "outputs": [
    {
     "data": {
      "text/plain": [
       "array([0, 0, 0, ..., 1, 0, 0])"
      ]
     },
     "execution_count": 21,
     "metadata": {},
     "output_type": "execute_result"
    }
   ],
   "source": [
    "y=le.fit_transform(y)\n",
    "y"
   ]
  },
  {
   "cell_type": "markdown",
   "metadata": {},
   "source": [
    "# Exploración de modelos de aprendizaje"
   ]
  },
  {
   "cell_type": "markdown",
   "metadata": {},
   "source": [
    "## Para seleccionar los features se realizara un modelo de random forest"
   ]
  },
  {
   "cell_type": "code",
   "execution_count": 22,
   "metadata": {},
   "outputs": [
    {
     "data": {
      "text/html": [
       "<div>\n",
       "<style scoped>\n",
       "    .dataframe tbody tr th:only-of-type {\n",
       "        vertical-align: middle;\n",
       "    }\n",
       "\n",
       "    .dataframe tbody tr th {\n",
       "        vertical-align: top;\n",
       "    }\n",
       "\n",
       "    .dataframe thead th {\n",
       "        text-align: right;\n",
       "    }\n",
       "</style>\n",
       "<table border=\"1\" class=\"dataframe\">\n",
       "  <thead>\n",
       "    <tr style=\"text-align: right;\">\n",
       "      <th></th>\n",
       "      <th>is_admin</th>\n",
       "      <th>is_blue_collar</th>\n",
       "      <th>is_entrepe</th>\n",
       "      <th>is_housemaid</th>\n",
       "      <th>is_management</th>\n",
       "      <th>is_retired</th>\n",
       "      <th>is_self</th>\n",
       "      <th>is_services</th>\n",
       "      <th>is_student</th>\n",
       "      <th>is_tech</th>\n",
       "      <th>...</th>\n",
       "      <th>is_failure_out</th>\n",
       "      <th>is_other_out</th>\n",
       "      <th>is_sucess_out</th>\n",
       "      <th>age</th>\n",
       "      <th>balance</th>\n",
       "      <th>day</th>\n",
       "      <th>duration</th>\n",
       "      <th>campaign</th>\n",
       "      <th>pdays</th>\n",
       "      <th>previous</th>\n",
       "    </tr>\n",
       "  </thead>\n",
       "  <tbody>\n",
       "    <tr>\n",
       "      <th>0</th>\n",
       "      <td>0.000608</td>\n",
       "      <td>0.003968</td>\n",
       "      <td>0.000424</td>\n",
       "      <td>0.000335</td>\n",
       "      <td>0.000705</td>\n",
       "      <td>0.004101</td>\n",
       "      <td>0.000418</td>\n",
       "      <td>0.000485</td>\n",
       "      <td>0.005357</td>\n",
       "      <td>0.000731</td>\n",
       "      <td>...</td>\n",
       "      <td>0.017061</td>\n",
       "      <td>0.004804</td>\n",
       "      <td>0.196202</td>\n",
       "      <td>0.049991</td>\n",
       "      <td>0.012998</td>\n",
       "      <td>0.012412</td>\n",
       "      <td>0.39692</td>\n",
       "      <td>0.006841</td>\n",
       "      <td>0.06149</td>\n",
       "      <td>0.041607</td>\n",
       "    </tr>\n",
       "  </tbody>\n",
       "</table>\n",
       "<p>1 rows × 42 columns</p>\n",
       "</div>"
      ],
      "text/plain": [
       "   is_admin  is_blue_collar  is_entrepe  is_housemaid  is_management  \\\n",
       "0  0.000608        0.003968    0.000424      0.000335       0.000705   \n",
       "\n",
       "   is_retired   is_self  is_services  is_student   is_tech  ...  \\\n",
       "0    0.004101  0.000418     0.000485    0.005357  0.000731  ...   \n",
       "\n",
       "   is_failure_out  is_other_out  is_sucess_out       age   balance       day  \\\n",
       "0        0.017061      0.004804       0.196202  0.049991  0.012998  0.012412   \n",
       "\n",
       "   duration  campaign    pdays  previous  \n",
       "0   0.39692  0.006841  0.06149  0.041607  \n",
       "\n",
       "[1 rows x 42 columns]"
      ]
     },
     "execution_count": 22,
     "metadata": {},
     "output_type": "execute_result"
    }
   ],
   "source": [
    "\n",
    "# ahora si se realizara el random forest\n",
    "\n",
    "from sklearn.ensemble import RandomForestClassifier\n",
    "from sklearn.feature_selection import SelectFromModel\n",
    "\n",
    "classifierRF= RandomForestClassifier(n_estimators=1000, criterion='gini', max_depth=6)\n",
    "classifierRF = classifierRF.fit(X, y)\n",
    "# imprimir arry de importancia \n",
    "importance=classifierRF.feature_importances_  \n",
    "importance=pd.DataFrame(importance)\n",
    "\n",
    "importance=importance.transpose()\n",
    "\n",
    "importance.columns = [\"is_admin\", \"is_blue_collar\", \"is_entrepe\",\n",
    "               \"is_housemaid\",\"is_management\",\"is_retired\",\n",
    "               \"is_self\",\"is_services\",\"is_student\",\"is_tech\",\n",
    "               \"is_unemp\",\"is_divorced\",\n",
    "               \"is_married\",\"is_primary\",\n",
    "               \"is_secondary\",\"is_tertiary\",\n",
    "               \"is_y_def\",\"is_y_hou\",\n",
    "               \"is_y_loan\",\"is_cellular\",\n",
    "               \"is_telephone\",\n",
    "               \"is_apr\",\"is_aug\",\"is_dec\",\"is_feb\",\n",
    "               \"is_jan\",\"is_july\",\"is_june\",\n",
    "               \"is_march\",\"is_may\",\"is_nov\",\n",
    "               \"is_oct\",\"is_failure_out\",\n",
    "               \"is_other_out\",\"is_sucess_out\",\n",
    "               \"age\",\"balance\",\"day\",\"duration\",\"campaign\",\"pdays\",\"previous\"]\n",
    "\n",
    "importance.head()\n",
    "\n"
   ]
  },
  {
   "cell_type": "code",
   "execution_count": 23,
   "metadata": {},
   "outputs": [
    {
     "data": {
      "text/plain": [
       "(45211, 42)"
      ]
     },
     "execution_count": 23,
     "metadata": {},
     "output_type": "execute_result"
    }
   ],
   "source": [
    "# antes la dimension de los datos era:\n",
    "X.shape"
   ]
  },
  {
   "cell_type": "code",
   "execution_count": 24,
   "metadata": {},
   "outputs": [
    {
     "data": {
      "text/plain": [
       "(45211, 9)"
      ]
     },
     "execution_count": 24,
     "metadata": {},
     "output_type": "execute_result"
    }
   ],
   "source": [
    "# Ahora la nueva dimension es:\n",
    "model = SelectFromModel(classifierRF, prefit=True)\n",
    "X_new = model.transform(X)\n",
    "X_new.shape "
   ]
  },
  {
   "cell_type": "code",
   "execution_count": 25,
   "metadata": {},
   "outputs": [],
   "source": [
    "# Antes de esto vamos a hacer split del dataset en test y train 80% training y 20% testing\n",
    "\n",
    "from sklearn.model_selection import train_test_split\n",
    "X_train, X_test, y_train, y_test = train_test_split(X_new, y, test_size = 0.20, random_state = 0)"
   ]
  },
  {
   "cell_type": "markdown",
   "metadata": {},
   "source": [
    "### Al parecer solo hay 8 variables importantes de las 50"
   ]
  },
  {
   "cell_type": "markdown",
   "metadata": {},
   "source": [
    "# RANDOM FOREST"
   ]
  },
  {
   "cell_type": "markdown",
   "metadata": {},
   "source": [
    "### Evaluemos la precision de random forest, este utilizara grid search, como modo de busqueda para optimizar el accuracy y ademas validacion cruzada, para temas de generalizacion del algoritmo, que se quiere decir con eso? que el algoritmo sea capaz de predecir en test con la misma precision que se hizo en train\n",
    "Link usado para observar los parametros: https://scikit-learn.org/stable/modules/ensemble.html#forests-of-randomized-trees"
   ]
  },
  {
   "cell_type": "code",
   "execution_count": 26,
   "metadata": {},
   "outputs": [],
   "source": [
    "from sklearn.model_selection import GridSearchCV\n",
    "\n",
    "classifierRF= RandomForestClassifier()\n",
    "\n",
    "parameters=[ {'criterion':['gini'], 'n_estimators' : [1500,2000], \n",
    "             'max_depth':[6,8,10],\n",
    "             'max_features':[2,4,6] }]\n",
    "\n",
    "grid_search=GridSearchCV(estimator=classifierRF,\n",
    "                         param_grid=parameters,\n",
    "                         scoring='accuracy',\n",
    "                         cv=3)\n",
    "#Pasemos los datos de training\n",
    "grid_search=grid_search.fit(X_train ,y_train)\n"
   ]
  },
  {
   "cell_type": "code",
   "execution_count": 27,
   "metadata": {},
   "outputs": [
    {
     "data": {
      "text/plain": [
       "90.34505640345057"
      ]
     },
     "execution_count": 27,
     "metadata": {},
     "output_type": "execute_result"
    }
   ],
   "source": [
    "# best accuracy\n",
    "\n",
    "(grid_search.best_score_)*100"
   ]
  },
  {
   "cell_type": "code",
   "execution_count": 28,
   "metadata": {},
   "outputs": [
    {
     "data": {
      "text/plain": [
       "{'criterion': 'gini', 'max_depth': 10, 'max_features': 2, 'n_estimators': 2000}"
      ]
     },
     "execution_count": 28,
     "metadata": {},
     "output_type": "execute_result"
    }
   ],
   "source": [
    "# mejores parametros\n",
    "\n",
    "grid_search.best_params_"
   ]
  },
  {
   "cell_type": "code",
   "execution_count": 29,
   "metadata": {},
   "outputs": [
    {
     "data": {
      "text/plain": [
       "0.9009178370009953"
      ]
     },
     "execution_count": 29,
     "metadata": {},
     "output_type": "execute_result"
    }
   ],
   "source": [
    "# accuracy en test\n",
    "from sklearn.metrics import accuracy_score\n",
    "\n",
    "\n",
    "y_predict= grid_search.best_estimator_.predict(X_test)\n",
    "\n",
    "accuracy_score(y_test,y_predict)"
   ]
  },
  {
   "cell_type": "markdown",
   "metadata": {},
   "source": [
    "### El ajuste con este método funciona bien con 2000 estimadores y profundidad 10 cada uno. Se puede notar como el modelo no tiene underfitting lo cual significa que es bueno prediciendo nuevos datos y ademas, tiene un muy buen accuracy el cual es 90%"
   ]
  },
  {
   "cell_type": "markdown",
   "metadata": {},
   "source": [
    "# Logistic Regression"
   ]
  },
  {
   "cell_type": "markdown",
   "metadata": {},
   "source": [
    "Link usado para observar los parametros: http://scikit-learn.org/stable/modules/generated/sklearn.linear_model.LogisticRegression.html"
   ]
  },
  {
   "cell_type": "code",
   "execution_count": 30,
   "metadata": {},
   "outputs": [],
   "source": [
    "from sklearn.linear_model import LogisticRegression\n",
    "from sklearn.model_selection import GridSearchCV\n",
    "\n",
    "classifierLR= LogisticRegression()\n",
    "\n",
    "\n",
    "parametersLR=[ {'C':[0.5,0.6,0.7,1.0], \n",
    "             'penalty' : ['l1','l2'], \n",
    "              'solver':['liblinear']}]\n",
    "\n",
    "grid_searchLR=GridSearchCV(estimator=classifierLR,\n",
    "                         param_grid=parametersLR,\n",
    "                         scoring='accuracy',\n",
    "                         cv=3)\n",
    "\n",
    "grid_searchLR=grid_searchLR.fit(X_train ,y_train)"
   ]
  },
  {
   "cell_type": "code",
   "execution_count": 31,
   "metadata": {},
   "outputs": [
    {
     "data": {
      "text/plain": [
       "{'C': 0.5, 'penalty': 'l2', 'solver': 'liblinear'}"
      ]
     },
     "execution_count": 31,
     "metadata": {},
     "output_type": "execute_result"
    }
   ],
   "source": [
    "# mejores parametros usados\n",
    "\n",
    "grid_searchLR.best_params_"
   ]
  },
  {
   "cell_type": "code",
   "execution_count": 32,
   "metadata": {},
   "outputs": [
    {
     "data": {
      "text/plain": [
       "90.20128290201282"
      ]
     },
     "execution_count": 32,
     "metadata": {},
     "output_type": "execute_result"
    }
   ],
   "source": [
    "#best accuracy\n",
    "\n",
    "(grid_searchLR.best_score_)*100"
   ]
  },
  {
   "cell_type": "code",
   "execution_count": 33,
   "metadata": {},
   "outputs": [
    {
     "data": {
      "text/plain": [
       "0.8933982085591065"
      ]
     },
     "execution_count": 33,
     "metadata": {},
     "output_type": "execute_result"
    }
   ],
   "source": [
    "# test accuracy\n",
    "from sklearn.metrics import accuracy_score\n",
    "\n",
    "y_predict= grid_searchLR.best_estimator_.predict(X_test)\n",
    "accuracy_score(y_test,y_predict)"
   ]
  },
  {
   "cell_type": "markdown",
   "metadata": {},
   "source": [
    "### Se puede notar como el modelo no tiene underfitting lo cual significa que es bueno prediciendo nuevos datos y ademas, tiene un muy buen accuracy el cual es 90%"
   ]
  },
  {
   "cell_type": "markdown",
   "metadata": {},
   "source": [
    "# Gaussian Naive Bayes"
   ]
  },
  {
   "cell_type": "markdown",
   "metadata": {},
   "source": [
    "GaussianNB que corresponde al clasificador NB Gaussiano "
   ]
  },
  {
   "cell_type": "code",
   "execution_count": 26,
   "metadata": {},
   "outputs": [
    {
     "data": {
      "text/plain": [
       "0.8928887414288874"
      ]
     },
     "execution_count": 26,
     "metadata": {},
     "output_type": "execute_result"
    }
   ],
   "source": [
    "from sklearn.naive_bayes import GaussianNB\n",
    "# Para este modelo no se realizara gridsearch ya que el modelo por si solo tiene muy pocos parametros\n",
    "\n",
    "from sklearn.model_selection import GridSearchCV\n",
    "\n",
    "classifierNB= GaussianNB()\n",
    "\n",
    "classifierNB.fit(X_train ,y_train)\n",
    "\n",
    "from sklearn.metrics import accuracy_score\n",
    "\n",
    "# accuracy en train\n",
    "\n",
    "y_predict= classifierNB.predict(X_train)\n",
    "accuracy_score(y_train,y_predict)\n"
   ]
  },
  {
   "cell_type": "code",
   "execution_count": 27,
   "metadata": {},
   "outputs": [
    {
     "data": {
      "text/plain": [
       "0.8895278115669578"
      ]
     },
     "execution_count": 27,
     "metadata": {},
     "output_type": "execute_result"
    }
   ],
   "source": [
    "# accuracy en test \n",
    "\n",
    "from sklearn.metrics import accuracy_score\n",
    "\n",
    "y_predict= classifierNB.predict(X_test)\n",
    "accuracy_score(y_test,y_predict)"
   ]
  },
  {
   "cell_type": "markdown",
   "metadata": {},
   "source": [
    "### Este clasificador no se le agregó ninguna clase de prior knowledge. Su rendimiento como clasificación es buena, pero no tan buena como los clasificadores anteriores.\n",
    "### Se puede notar como el modelo no tiene underfitting lo cual significa que es bueno prediciendo nuevos datos y ademas, tiene un muy buen accuracy el cual es 89%"
   ]
  },
  {
   "cell_type": "markdown",
   "metadata": {},
   "source": [
    "# Decision Trees"
   ]
  },
  {
   "cell_type": "markdown",
   "metadata": {},
   "source": [
    "Procedemos como en el casos anteriores, para más detalles sobre LDecision Trees referirse a: http://scikit-learn.org/stable/modules/tree.html"
   ]
  },
  {
   "cell_type": "markdown",
   "metadata": {},
   "source": [
    "Se llama a la libreria DecisionTreeClassifier, se llama la a DecisionTreeClassifier"
   ]
  },
  {
   "cell_type": "code",
   "execution_count": 36,
   "metadata": {},
   "outputs": [],
   "source": [
    "from sklearn.tree import DecisionTreeClassifier\n",
    "\n",
    "classifierDT= DecisionTreeClassifier()\n",
    "\n",
    "\n",
    "parametersDT=[ {'criterion':['gini'],  \n",
    "             'max_depth':[4,6,8],\n",
    "             'max_features':[2,4,6] }]\n",
    "\n",
    "grid_searchDT=GridSearchCV(estimator=classifierDT,\n",
    "                         param_grid=parametersDT,\n",
    "                         scoring='accuracy',\n",
    "                         cv=3)\n",
    "\n",
    "grid_searchDT=grid_searchDT.fit(X_train ,y_train)\n"
   ]
  },
  {
   "cell_type": "code",
   "execution_count": 37,
   "metadata": {},
   "outputs": [
    {
     "data": {
      "text/plain": [
       "{'criterion': 'gini', 'max_depth': 6, 'max_features': 6}"
      ]
     },
     "execution_count": 37,
     "metadata": {},
     "output_type": "execute_result"
    }
   ],
   "source": [
    "# mejores parametros usados\n",
    "\n",
    "grid_searchDT.best_params_"
   ]
  },
  {
   "cell_type": "code",
   "execution_count": 38,
   "metadata": {},
   "outputs": [
    {
     "data": {
      "text/plain": [
       "90.14045565140457"
      ]
     },
     "execution_count": 38,
     "metadata": {},
     "output_type": "execute_result"
    }
   ],
   "source": [
    "#best accuracy\n",
    "\n",
    "(grid_searchDT.best_score_)*100"
   ]
  },
  {
   "cell_type": "code",
   "execution_count": 39,
   "metadata": {},
   "outputs": [
    {
     "data": {
      "text/plain": [
       "0.8954992812119872"
      ]
     },
     "execution_count": 39,
     "metadata": {},
     "output_type": "execute_result"
    }
   ],
   "source": [
    "# test accuracy\n",
    "from sklearn.metrics import accuracy_score\n",
    "\n",
    "y_predict= grid_searchDT.best_estimator_.predict(X_test)\n",
    "accuracy_score(y_test,y_predict)"
   ]
  },
  {
   "cell_type": "markdown",
   "metadata": {},
   "source": [
    "### Este método se ajusto para una profundidad de 6 preguntas. De otra forma se podria apreciar un overfitting o underfitting. Se puede notar como el modelo no tiene underfitting lo cual significa que es bueno prediciendo nuevos datos y ademas, tiene un muy buen accuracy el cual es 90%"
   ]
  },
  {
   "cell_type": "markdown",
   "metadata": {},
   "source": [
    "# XGBOOST (Ensamble)"
   ]
  },
  {
   "cell_type": "markdown",
   "metadata": {},
   "source": [
    "### Ensamble:  El objetivo de los métodos de conjunto es combinar las predicciones de varios estimadores de base construidos con un algoritmo de aprendizaje dado para mejorar la generalización / robustez en un solo estimador.\n",
    "### XGBOOST: Algunos de los principales beneficios de XGBoost son que es altamente escalable, paralelizable, rápido de ejecutar y, por lo general, realiza otros algoritmos.\n",
    " Este modelo tiene muchos parametros, es muy bueno pero ens muy dificil de optimizar\n"
   ]
  },
  {
   "cell_type": "code",
   "execution_count": 42,
   "metadata": {},
   "outputs": [],
   "source": [
    "\n",
    "import xgboost as xgb\n",
    "\n",
    "from xgboost.sklearn import XGBClassifier\n",
    "from sklearn.model_selection import GridSearchCV\n",
    "\n",
    "classifierXG= XGBClassifier()\n",
    "\n",
    "\n",
    "parametersXG=[ {'max_depth': [5,7,9], \n",
    "                'min_child_weight': [1,3,5],\n",
    "               'n_estimators': [1000,1500]}]\n",
    "\n",
    "grid_searchXG=GridSearchCV(estimator=classifierXG,\n",
    "                         param_grid=parametersXG,\n",
    "                         scoring='accuracy',\n",
    "                         cv=3)\n",
    "\n",
    "grid_searchXG=grid_searchXG.fit(X_train ,y_train)\n"
   ]
  },
  {
   "cell_type": "code",
   "execution_count": 43,
   "metadata": {},
   "outputs": [
    {
     "data": {
      "text/plain": [
       "{'max_depth': 5, 'min_child_weight': 5, 'n_estimators': 1000}"
      ]
     },
     "execution_count": 43,
     "metadata": {},
     "output_type": "execute_result"
    }
   ],
   "source": [
    "# mejores parametros usados\n",
    "\n",
    "grid_searchXG.best_params_"
   ]
  },
  {
   "cell_type": "code",
   "execution_count": 44,
   "metadata": {},
   "outputs": [
    {
     "data": {
      "text/plain": [
       "90.06027427560275"
      ]
     },
     "execution_count": 44,
     "metadata": {},
     "output_type": "execute_result"
    }
   ],
   "source": [
    "#best accuracy\n",
    "\n",
    "(grid_searchXG.best_score_)*100"
   ]
  },
  {
   "cell_type": "code",
   "execution_count": 45,
   "metadata": {},
   "outputs": [
    {
     "data": {
      "text/plain": [
       "0.8954992812119872"
      ]
     },
     "execution_count": 45,
     "metadata": {},
     "output_type": "execute_result"
    }
   ],
   "source": [
    "# test accuracy\n",
    "from sklearn.metrics import accuracy_score\n",
    "\n",
    "y_predict= grid_searchXG.best_estimator_.predict(X_test)\n",
    "accuracy_score(y_test,y_predict)"
   ]
  },
  {
   "cell_type": "markdown",
   "metadata": {},
   "source": [
    "### Su rendimiento como clasificación es buena, el valor dio igual al de decision tree, pero dura mas computacionalmente, es necesario optimizar.\n",
    "### Se puede notar como el modelo no tiene underfitting lo cual significa que es bueno prediciendo nuevos datos y ademas, tiene un muy buen accuracy el cual es 89.54%"
   ]
  },
  {
   "cell_type": "markdown",
   "metadata": {},
   "source": [
    "# Gradient Boosting Classifier"
   ]
  },
  {
   "cell_type": "markdown",
   "metadata": {},
   "source": [
    "\n",
    "Gradient Boosting para la clasificación.\n",
    "\n",
    "GB construye un modelo aditivo de manera progresiva hacia el escenario; Permite la optimización de funciones de pérdida diferenciables arbitrarias. En cada etapa, n_classes_ regression árboles se ajustan al gradiente negativo de la función de pérdida de desviación binomial o multinomial. La clasificación binaria es un caso especial en el que solo se induce un único árbol de regresión."
   ]
  },
  {
   "cell_type": "markdown",
   "metadata": {},
   "source": [
    "1. Learning_rate: Reduce la contribución de cada árbol por learning_rate. Hay una compensación entre learning_rate y n_estimators.\n",
    "\n",
    "2. n_estimator: El número de etapas de impulso a realizar. El aumento de gradiente es bastante robusto para un ajuste excesivo, por lo que un gran número generalmente resulta en un mejor rendimiento.\n",
    "\n",
    "3. max_depth: Profundidad máxima de los estimadores de regresión individuales. La profundidad máxima limita el número de nodos en el árbol. Ajuste este parámetro para obtener el mejor rendimiento; El mejor valor depende de la interacción de las variables de entrada.\n",
    "\n",
    "4. max_features : int, float, string or None, optional (default=None) The number of features to consider when looking for the best split: If “sqrt”, then max_features=sqrt(n_features) or If “log2”, then max_features=log2(n_features)."
   ]
  },
  {
   "cell_type": "code",
   "execution_count": 28,
   "metadata": {},
   "outputs": [],
   "source": [
    "from sklearn.ensemble import GradientBoostingClassifier\n",
    "from sklearn.model_selection import GridSearchCV\n",
    "\n",
    "classifierSVC= GradientBoostingClassifier()\n",
    "\n",
    "\n",
    "parametersSVC=[ {'n_estimators':[10], \n",
    "                 'learning_rate':[ 0.1, 0.5, 0.75], \n",
    "                 'max_features':[\"log2\",\"sqrt\"], \n",
    "                 'max_depth':[6,8,10]}]\n",
    "\n",
    "grid_searchSVC=GridSearchCV(estimator=classifierSVC,\n",
    "                         param_grid=parametersSVC,\n",
    "                         scoring='accuracy',\n",
    "                         cv=3)\n",
    "\n",
    "grid_searchSVC=grid_searchSVC.fit(X_train ,y_train)"
   ]
  },
  {
   "cell_type": "code",
   "execution_count": 29,
   "metadata": {},
   "outputs": [
    {
     "data": {
      "text/plain": [
       "{'learning_rate': 0.5,\n",
       " 'max_depth': 6,\n",
       " 'max_features': 'sqrt',\n",
       " 'n_estimators': 10}"
      ]
     },
     "execution_count": 29,
     "metadata": {},
     "output_type": "execute_result"
    }
   ],
   "source": [
    "# mejores parametros usados\n",
    "\n",
    "grid_searchSVC.best_params_"
   ]
  },
  {
   "cell_type": "code",
   "execution_count": 30,
   "metadata": {},
   "outputs": [
    {
     "data": {
      "text/plain": [
       "90.23722627737226"
      ]
     },
     "execution_count": 30,
     "metadata": {},
     "output_type": "execute_result"
    }
   ],
   "source": [
    "#best accuracy\n",
    "\n",
    "(grid_searchSVC.best_score_)*100"
   ]
  },
  {
   "cell_type": "code",
   "execution_count": 31,
   "metadata": {},
   "outputs": [
    {
     "data": {
      "text/plain": [
       "0.8983744332632976"
      ]
     },
     "execution_count": 31,
     "metadata": {},
     "output_type": "execute_result"
    }
   ],
   "source": [
    "# test accuracy\n",
    "from sklearn.metrics import accuracy_score\n",
    "\n",
    "y_predict= grid_searchSVC.best_estimator_.predict(X_test)\n",
    "accuracy_score(y_test,y_predict)"
   ]
  },
  {
   "cell_type": "markdown",
   "metadata": {},
   "source": [
    "Su rendimiento como clasificación es buena, pero no tan buena como los clasificadores anteriores.\n",
    "### Se puede notar como el modelo no tiene underfitting lo cual significa que es bueno prediciendo nuevos datos y ademas, tiene un muy buen accuracy el cual es 89%"
   ]
  },
  {
   "cell_type": "markdown",
   "metadata": {},
   "source": [
    "# Conclusiones"
   ]
  },
  {
   "cell_type": "markdown",
   "metadata": {},
   "source": [
    "1- De acuerdo a estos resultados, el EDA y el pre procesamiento de los datos utilizando OneHotEncoder, Standard Scaling y la seleccion de features usando el random forest han sido muy exitoso para mejorar el rendimiento computacional de los algoritmos de clasificación.\n",
    "\n",
    "2- De los múltiples modelos de aprendizaje, los que obtuvieron mejores resultados a corto plazo y mayoritariamente, fueron Random forest y Decision tree. Debido a que el problema a resolver es de clasificacion, y estos algoritmos aplican preguntas."
   ]
  }
 ],
 "metadata": {
  "kernelspec": {
   "display_name": "Python 3",
   "language": "python",
   "name": "python3"
  },
  "language_info": {
   "codemirror_mode": {
    "name": "ipython",
    "version": 3
   },
   "file_extension": ".py",
   "mimetype": "text/x-python",
   "name": "python",
   "nbconvert_exporter": "python",
   "pygments_lexer": "ipython3",
   "version": "3.7.3"
  }
 },
 "nbformat": 4,
 "nbformat_minor": 2
}
